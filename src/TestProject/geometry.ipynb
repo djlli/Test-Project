{
 "cells": [
  {
   "cell_type": "code",
   "execution_count": 1,
   "id": "dabc4d88-be09-4b6d-9e97-14376460b7ef",
   "metadata": {},
   "outputs": [],
   "source": [
    "def area(height,width):\n",
    "    return height*width"
   ]
  }
 ],
 "metadata": {
  "kernelspec": {
   "display_name": "Python 3",
   "language": "python",
   "name": "python3"
  },
  "language_info": {
   "codemirror_mode": {
    "name": "ipython",
    "version": 3
   },
   "file_extension": ".py",
   "mimetype": "text/x-python",
   "name": "python",
   "nbconvert_exporter": "python",
   "pygments_lexer": "ipython3",
   "version": "3.8.8"
  }
 },
 "nbformat": 4,
 "nbformat_minor": 5
}
